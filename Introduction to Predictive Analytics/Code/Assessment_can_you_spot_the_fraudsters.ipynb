{
 "cells": [
  {
   "cell_type": "markdown",
   "metadata": {},
   "source": [
    "# Can you spot the fraudsters?"
   ]
  },
  {
   "cell_type": "markdown",
   "metadata": {},
   "source": [
    "Consider the following dataset:"
   ]
  },
  {
   "cell_type": "code",
   "execution_count": 31,
   "metadata": {},
   "outputs": [
    {
     "name": "stdout",
     "output_type": "stream",
     "text": [
      "                    CC            No   Money               City  \\\n",
      "0             5.11E+15  1.610000e+12  $6,871             Amlwch   \n",
      "1  5294 4409 1242 9950  1.680000e+12  $7,965      North Saanich   \n",
      "2             5.38E+15  1.650000e+12  $7,927             Amlwch   \n",
      "3             5.53E+15  1.630000e+12  $9,525               Ajax   \n",
      "4             5.57E+15  1.630000e+12  $7,008  Pont-Saint-Martin   \n",
      "5             5.15E+15  1.650000e+12  $5,138             Amlwch   \n",
      "6    514515 2300050725  1.650000e+12  $6,921               Ajax   \n",
      "7  5288 2331 4441 1377  1.640000e+12  $7,821  Pont-Saint-Martin   \n",
      "8   538649 550458 1435  1.680000e+12  $7,426             Canoas   \n",
      "9   522306 558047 9692  1.650000e+12  $7,344             Canoas   \n",
      "\n",
      "             Phone  Fraud  \n",
      "0    070 2858 8300      1  \n",
      "1     07588 093717      1  \n",
      "2    0800 236 8313      1  \n",
      "3  (0116) 834 5299      0  \n",
      "4    (016977) 0477      1  \n",
      "5      0500 593141      0  \n",
      "6        0800 1111      0  \n",
      "7    0933 242 2375      1  \n",
      "8       0845 46 45      1  \n",
      "9      0800 852603      1  \n"
     ]
    }
   ],
   "source": [
    "from sklearn import datasets\n",
    "import pandas as pd\n",
    "import numpy as np\n",
    "import matplotlib.pyplot as plt\n",
    "\n",
    "dataset = pd.read_csv('DLAS01_M1_WK4_LS2_A02.csv', encoding='latin1')\n",
    "print(dataset.head(10))"
   ]
  },
  {
   "cell_type": "code",
   "execution_count": 32,
   "metadata": {},
   "outputs": [
    {
     "data": {
      "text/html": [
       "<div>\n",
       "<style scoped>\n",
       "    .dataframe tbody tr th:only-of-type {\n",
       "        vertical-align: middle;\n",
       "    }\n",
       "\n",
       "    .dataframe tbody tr th {\n",
       "        vertical-align: top;\n",
       "    }\n",
       "\n",
       "    .dataframe thead th {\n",
       "        text-align: right;\n",
       "    }\n",
       "</style>\n",
       "<table border=\"1\" class=\"dataframe\">\n",
       "  <thead>\n",
       "    <tr style=\"text-align: right;\">\n",
       "      <th></th>\n",
       "      <th>CC</th>\n",
       "      <th>No</th>\n",
       "      <th>Money</th>\n",
       "      <th>City</th>\n",
       "      <th>Phone</th>\n",
       "      <th>Fraud</th>\n",
       "    </tr>\n",
       "  </thead>\n",
       "  <tbody>\n",
       "    <tr>\n",
       "      <th>0</th>\n",
       "      <td>5.11E+15</td>\n",
       "      <td>1.610000e+12</td>\n",
       "      <td>$6,871</td>\n",
       "      <td>Amlwch</td>\n",
       "      <td>070 2858 8300</td>\n",
       "      <td>1</td>\n",
       "    </tr>\n",
       "    <tr>\n",
       "      <th>1</th>\n",
       "      <td>5294 4409 1242 9950</td>\n",
       "      <td>1.680000e+12</td>\n",
       "      <td>$7,965</td>\n",
       "      <td>North Saanich</td>\n",
       "      <td>07588 093717</td>\n",
       "      <td>1</td>\n",
       "    </tr>\n",
       "    <tr>\n",
       "      <th>2</th>\n",
       "      <td>5.38E+15</td>\n",
       "      <td>1.650000e+12</td>\n",
       "      <td>$7,927</td>\n",
       "      <td>Amlwch</td>\n",
       "      <td>0800 236 8313</td>\n",
       "      <td>1</td>\n",
       "    </tr>\n",
       "    <tr>\n",
       "      <th>3</th>\n",
       "      <td>5.53E+15</td>\n",
       "      <td>1.630000e+12</td>\n",
       "      <td>$9,525</td>\n",
       "      <td>Ajax</td>\n",
       "      <td>(0116) 834 5299</td>\n",
       "      <td>0</td>\n",
       "    </tr>\n",
       "    <tr>\n",
       "      <th>4</th>\n",
       "      <td>5.57E+15</td>\n",
       "      <td>1.630000e+12</td>\n",
       "      <td>$7,008</td>\n",
       "      <td>Pont-Saint-Martin</td>\n",
       "      <td>(016977) 0477</td>\n",
       "      <td>1</td>\n",
       "    </tr>\n",
       "    <tr>\n",
       "      <th>5</th>\n",
       "      <td>5.15E+15</td>\n",
       "      <td>1.650000e+12</td>\n",
       "      <td>$5,138</td>\n",
       "      <td>Amlwch</td>\n",
       "      <td>0500 593141</td>\n",
       "      <td>0</td>\n",
       "    </tr>\n",
       "    <tr>\n",
       "      <th>6</th>\n",
       "      <td>514515 2300050725</td>\n",
       "      <td>1.650000e+12</td>\n",
       "      <td>$6,921</td>\n",
       "      <td>Ajax</td>\n",
       "      <td>0800 1111</td>\n",
       "      <td>0</td>\n",
       "    </tr>\n",
       "    <tr>\n",
       "      <th>7</th>\n",
       "      <td>5288 2331 4441 1377</td>\n",
       "      <td>1.640000e+12</td>\n",
       "      <td>$7,821</td>\n",
       "      <td>Pont-Saint-Martin</td>\n",
       "      <td>0933 242 2375</td>\n",
       "      <td>1</td>\n",
       "    </tr>\n",
       "    <tr>\n",
       "      <th>8</th>\n",
       "      <td>538649 550458 1435</td>\n",
       "      <td>1.680000e+12</td>\n",
       "      <td>$7,426</td>\n",
       "      <td>Canoas</td>\n",
       "      <td>0845 46 45</td>\n",
       "      <td>1</td>\n",
       "    </tr>\n",
       "    <tr>\n",
       "      <th>9</th>\n",
       "      <td>522306 558047 9692</td>\n",
       "      <td>1.650000e+12</td>\n",
       "      <td>$7,344</td>\n",
       "      <td>Canoas</td>\n",
       "      <td>0800 852603</td>\n",
       "      <td>1</td>\n",
       "    </tr>\n",
       "  </tbody>\n",
       "</table>\n",
       "</div>"
      ],
      "text/plain": [
       "                    CC            No   Money               City  \\\n",
       "0             5.11E+15  1.610000e+12  $6,871             Amlwch   \n",
       "1  5294 4409 1242 9950  1.680000e+12  $7,965      North Saanich   \n",
       "2             5.38E+15  1.650000e+12  $7,927             Amlwch   \n",
       "3             5.53E+15  1.630000e+12  $9,525               Ajax   \n",
       "4             5.57E+15  1.630000e+12  $7,008  Pont-Saint-Martin   \n",
       "5             5.15E+15  1.650000e+12  $5,138             Amlwch   \n",
       "6    514515 2300050725  1.650000e+12  $6,921               Ajax   \n",
       "7  5288 2331 4441 1377  1.640000e+12  $7,821  Pont-Saint-Martin   \n",
       "8   538649 550458 1435  1.680000e+12  $7,426             Canoas   \n",
       "9   522306 558047 9692  1.650000e+12  $7,344             Canoas   \n",
       "\n",
       "             Phone  Fraud  \n",
       "0    070 2858 8300      1  \n",
       "1     07588 093717      1  \n",
       "2    0800 236 8313      1  \n",
       "3  (0116) 834 5299      0  \n",
       "4    (016977) 0477      1  \n",
       "5      0500 593141      0  \n",
       "6        0800 1111      0  \n",
       "7    0933 242 2375      1  \n",
       "8       0845 46 45      1  \n",
       "9      0800 852603      1  "
      ]
     },
     "execution_count": 32,
     "metadata": {},
     "output_type": "execute_result"
    }
   ],
   "source": [
    "dataset.head(10)"
   ]
  },
  {
   "cell_type": "markdown",
   "metadata": {},
   "source": [
    "The variable CC stands for Credit Card, and No for an identifier (number). We have a dependent variable which indicates whether a transaction/obervation is fraudulent yes or no (1/0)."
   ]
  },
  {
   "cell_type": "markdown",
   "metadata": {},
   "source": [
    "We would like to create a predictive model that can identify credit card fraudsters. The variables are not usable just yet.\n",
    "There are a number of operations that need to be carried out:\n",
    "1. Convert alphanumeric into numeric variables\n",
    "2. Remove variables that have no predictive value\n",
    "3. Remove outliers\n",
    "4. Transform numeric variables"
   ]
  },
  {
   "cell_type": "markdown",
   "metadata": {},
   "source": [
    "## Step 1: Convert alphanumeric into numeric variables"
   ]
  },
  {
   "cell_type": "markdown",
   "metadata": {},
   "source": [
    "The money variable is numeric, but not in the right format. Address this in the dataset:"
   ]
  },
  {
   "cell_type": "code",
   "execution_count": 33,
   "metadata": {
    "collapsed": true,
    "nbgrader": {
     "grade": false,
     "grade_id": "transform_money_variable",
     "locked": false,
     "schema_version": 1,
     "solution": true
    }
   },
   "outputs": [],
   "source": [
    "def transform_money_variable(dataset):\n",
    "    # We first copy the dataset to have our own version which we can alter\n",
    "    dataset_cleaner = dataset.copy()\n",
    "    \n",
    "    ###\n",
    "    ### YOUR CODE HERE\n",
    "    dataset_cleaner['Money'] = dataset_cleaner['Money'].astype(str)\n",
    "    dataset_cleaner['Money'] = dataset_cleaner['Money'].str.replace('$', '')\n",
    "    dataset_cleaner['Money'] = dataset_cleaner['Money'].str.replace(',', '')\n",
    "    dataset_cleaner['Money'] = dataset_cleaner['Money'].astype(int)  # cast back to appropriate type\n",
    "    \n",
    "    ###\n",
    "    \n",
    "    return dataset_cleaner"
   ]
  },
  {
   "cell_type": "markdown",
   "metadata": {},
   "source": [
    "Your answer will be verified below (no need for you to do anything)."
   ]
  },
  {
   "cell_type": "code",
   "execution_count": null,
   "metadata": {
    "collapsed": true,
    "deletable": false,
    "editable": false,
    "nbgrader": {
     "grade": true,
     "grade_id": "transform_money_variable",
     "locked": true,
     "points": "2",
     "schema_version": 1,
     "solution": false
    }
   },
   "outputs": [],
   "source": [
    "###\n",
    "### AUTOGRADER TEST - DO NOT REMOVE\n",
    "###\n"
   ]
  },
  {
   "cell_type": "markdown",
   "metadata": {},
   "source": [
    "Check your dataset to see whether the changes have been made correctly:"
   ]
  },
  {
   "cell_type": "code",
   "execution_count": 35,
   "metadata": {},
   "outputs": [
    {
     "data": {
      "text/html": [
       "<div>\n",
       "<style scoped>\n",
       "    .dataframe tbody tr th:only-of-type {\n",
       "        vertical-align: middle;\n",
       "    }\n",
       "\n",
       "    .dataframe tbody tr th {\n",
       "        vertical-align: top;\n",
       "    }\n",
       "\n",
       "    .dataframe thead th {\n",
       "        text-align: right;\n",
       "    }\n",
       "</style>\n",
       "<table border=\"1\" class=\"dataframe\">\n",
       "  <thead>\n",
       "    <tr style=\"text-align: right;\">\n",
       "      <th></th>\n",
       "      <th>CC</th>\n",
       "      <th>No</th>\n",
       "      <th>Money</th>\n",
       "      <th>City</th>\n",
       "      <th>Phone</th>\n",
       "      <th>Fraud</th>\n",
       "    </tr>\n",
       "  </thead>\n",
       "  <tbody>\n",
       "    <tr>\n",
       "      <th>0</th>\n",
       "      <td>5.11E+15</td>\n",
       "      <td>1.610000e+12</td>\n",
       "      <td>6871</td>\n",
       "      <td>Amlwch</td>\n",
       "      <td>070 2858 8300</td>\n",
       "      <td>1</td>\n",
       "    </tr>\n",
       "    <tr>\n",
       "      <th>1</th>\n",
       "      <td>5294 4409 1242 9950</td>\n",
       "      <td>1.680000e+12</td>\n",
       "      <td>7965</td>\n",
       "      <td>North Saanich</td>\n",
       "      <td>07588 093717</td>\n",
       "      <td>1</td>\n",
       "    </tr>\n",
       "    <tr>\n",
       "      <th>2</th>\n",
       "      <td>5.38E+15</td>\n",
       "      <td>1.650000e+12</td>\n",
       "      <td>7927</td>\n",
       "      <td>Amlwch</td>\n",
       "      <td>0800 236 8313</td>\n",
       "      <td>1</td>\n",
       "    </tr>\n",
       "    <tr>\n",
       "      <th>3</th>\n",
       "      <td>5.53E+15</td>\n",
       "      <td>1.630000e+12</td>\n",
       "      <td>9525</td>\n",
       "      <td>Ajax</td>\n",
       "      <td>(0116) 834 5299</td>\n",
       "      <td>0</td>\n",
       "    </tr>\n",
       "    <tr>\n",
       "      <th>4</th>\n",
       "      <td>5.57E+15</td>\n",
       "      <td>1.630000e+12</td>\n",
       "      <td>7008</td>\n",
       "      <td>Pont-Saint-Martin</td>\n",
       "      <td>(016977) 0477</td>\n",
       "      <td>1</td>\n",
       "    </tr>\n",
       "  </tbody>\n",
       "</table>\n",
       "</div>"
      ],
      "text/plain": [
       "                    CC            No  Money               City  \\\n",
       "0             5.11E+15  1.610000e+12   6871             Amlwch   \n",
       "1  5294 4409 1242 9950  1.680000e+12   7965      North Saanich   \n",
       "2             5.38E+15  1.650000e+12   7927             Amlwch   \n",
       "3             5.53E+15  1.630000e+12   9525               Ajax   \n",
       "4             5.57E+15  1.630000e+12   7008  Pont-Saint-Martin   \n",
       "\n",
       "             Phone  Fraud  \n",
       "0    070 2858 8300      1  \n",
       "1     07588 093717      1  \n",
       "2    0800 236 8313      1  \n",
       "3  (0116) 834 5299      0  \n",
       "4    (016977) 0477      1  "
      ]
     },
     "execution_count": 35,
     "metadata": {},
     "output_type": "execute_result"
    }
   ],
   "source": [
    "dataset_cleaner = transform_money_variable(dataset)\n",
    "dataset_cleaner.head()"
   ]
  },
  {
   "cell_type": "markdown",
   "metadata": {},
   "source": [
    "## Step 2: Remove variables that have no predictive value"
   ]
  },
  {
   "cell_type": "markdown",
   "metadata": {},
   "source": [
    "Let's have a look at the number of unique values per variable:"
   ]
  },
  {
   "cell_type": "code",
   "execution_count": 36,
   "metadata": {},
   "outputs": [
    {
     "name": "stdout",
     "output_type": "stream",
     "text": [
      "CC   97\n",
      "No   9\n",
      "Money   98\n",
      "City   5\n",
      "Phone   95\n",
      "Fraud   2\n"
     ]
    }
   ],
   "source": [
    "for var in dataset.columns:\n",
    "    print(var, ' ', len(dataset[var].unique()))"
   ]
  },
  {
   "cell_type": "markdown",
   "metadata": {},
   "source": [
    "Remove the variables that you think are not needed and return the cleaned dataset:"
   ]
  },
  {
   "cell_type": "code",
   "execution_count": 45,
   "metadata": {
    "collapsed": true,
    "nbgrader": {
     "grade": false,
     "grade_id": "remove_variables",
     "locked": false,
     "schema_version": 1,
     "solution": true
    }
   },
   "outputs": [],
   "source": [
    "def remove_variables(dataset_cleaner):\n",
    "    dataset_cleanest = dataset_cleaner.copy()\n",
    "    \n",
    "    ###\n",
    "    ### YOUR CODE HERE\n",
    "    dataset_cleanest = dataset_cleanest.drop(['CC','Phone'], axis=1)\n",
    "    \n",
    "    ###\n",
    "    \n",
    "    return dataset_cleanest"
   ]
  },
  {
   "cell_type": "markdown",
   "metadata": {},
   "source": [
    "Your answer will be verified below (no need for you to do anything)."
   ]
  },
  {
   "cell_type": "code",
   "execution_count": null,
   "metadata": {
    "collapsed": true,
    "deletable": false,
    "editable": false,
    "nbgrader": {
     "grade": true,
     "grade_id": "remove_variables",
     "locked": true,
     "points": "2",
     "schema_version": 1,
     "solution": false
    }
   },
   "outputs": [],
   "source": [
    "###\n",
    "### AUTOGRADER TEST - DO NOT REMOVE\n",
    "###\n"
   ]
  },
  {
   "cell_type": "markdown",
   "metadata": {},
   "source": [
    "Check your dataset:"
   ]
  },
  {
   "cell_type": "code",
   "execution_count": 46,
   "metadata": {},
   "outputs": [
    {
     "data": {
      "text/html": [
       "<div>\n",
       "<style scoped>\n",
       "    .dataframe tbody tr th:only-of-type {\n",
       "        vertical-align: middle;\n",
       "    }\n",
       "\n",
       "    .dataframe tbody tr th {\n",
       "        vertical-align: top;\n",
       "    }\n",
       "\n",
       "    .dataframe thead th {\n",
       "        text-align: right;\n",
       "    }\n",
       "</style>\n",
       "<table border=\"1\" class=\"dataframe\">\n",
       "  <thead>\n",
       "    <tr style=\"text-align: right;\">\n",
       "      <th></th>\n",
       "      <th>No</th>\n",
       "      <th>Money</th>\n",
       "      <th>City</th>\n",
       "      <th>Fraud</th>\n",
       "    </tr>\n",
       "  </thead>\n",
       "  <tbody>\n",
       "    <tr>\n",
       "      <th>0</th>\n",
       "      <td>1.610000e+12</td>\n",
       "      <td>6871</td>\n",
       "      <td>Amlwch</td>\n",
       "      <td>1</td>\n",
       "    </tr>\n",
       "    <tr>\n",
       "      <th>1</th>\n",
       "      <td>1.680000e+12</td>\n",
       "      <td>7965</td>\n",
       "      <td>North Saanich</td>\n",
       "      <td>1</td>\n",
       "    </tr>\n",
       "    <tr>\n",
       "      <th>2</th>\n",
       "      <td>1.650000e+12</td>\n",
       "      <td>7927</td>\n",
       "      <td>Amlwch</td>\n",
       "      <td>1</td>\n",
       "    </tr>\n",
       "    <tr>\n",
       "      <th>3</th>\n",
       "      <td>1.630000e+12</td>\n",
       "      <td>9525</td>\n",
       "      <td>Ajax</td>\n",
       "      <td>0</td>\n",
       "    </tr>\n",
       "    <tr>\n",
       "      <th>4</th>\n",
       "      <td>1.630000e+12</td>\n",
       "      <td>7008</td>\n",
       "      <td>Pont-Saint-Martin</td>\n",
       "      <td>1</td>\n",
       "    </tr>\n",
       "  </tbody>\n",
       "</table>\n",
       "</div>"
      ],
      "text/plain": [
       "             No  Money               City  Fraud\n",
       "0  1.610000e+12   6871             Amlwch      1\n",
       "1  1.680000e+12   7965      North Saanich      1\n",
       "2  1.650000e+12   7927             Amlwch      1\n",
       "3  1.630000e+12   9525               Ajax      0\n",
       "4  1.630000e+12   7008  Pont-Saint-Martin      1"
      ]
     },
     "execution_count": 46,
     "metadata": {},
     "output_type": "execute_result"
    }
   ],
   "source": [
    "dataset_cleanest = remove_variables(dataset_cleaner)\n",
    "dataset_cleanest.head()"
   ]
  },
  {
   "cell_type": "markdown",
   "metadata": {},
   "source": [
    "## Step 3: Remove outliers"
   ]
  },
  {
   "cell_type": "markdown",
   "metadata": {},
   "source": [
    "Now, add a column called 'outlier' to the dataset containing a -1/1 flag for outliers, which are calculated only for the continuous variables:"
   ]
  },
  {
   "cell_type": "code",
   "execution_count": 47,
   "metadata": {
    "collapsed": true,
    "nbgrader": {
     "grade": false,
     "grade_id": "remove_outliers",
     "locked": false,
     "schema_version": 1,
     "solution": true
    }
   },
   "outputs": [],
   "source": [
    "from sklearn.neighbors import LocalOutlierFactor\n",
    "\n",
    "def remove_outliers(dataset_trans, no_neigh, contam):\n",
    "    dataset_no_out = dataset_cleanest.copy()[['No', 'Money']]  \n",
    "    \n",
    "    ###\n",
    "    ### YOUR CODE HERE\n",
    "    loc= LocalOutlierFactor(n_neighbors = no_neigh, contamination = contam)\n",
    "    outliers_loc = loc.fit_predict(dataset_no_out)\n",
    "    dataset_no_out['outlier'] = pd.DataFrame(outliers_loc)\n",
    "    print(dataset_no_out['outlier'].head())\n",
    "    print(\" \")\n",
    "    print(dataset_no_out['outlier'].value_counts())\n",
    "    \n",
    "    ###\n",
    "    \n",
    "    return dataset_no_out"
   ]
  },
  {
   "cell_type": "code",
   "execution_count": 49,
   "metadata": {},
   "outputs": [
    {
     "name": "stdout",
     "output_type": "stream",
     "text": [
      "0   -1\n",
      "1    1\n",
      "2    1\n",
      "3    1\n",
      "4    1\n",
      "Name: outlier, dtype: int64\n",
      " \n",
      " 1    80\n",
      "-1    19\n",
      "Name: outlier, dtype: int64\n"
     ]
    },
    {
     "data": {
      "text/html": [
       "<div>\n",
       "<style scoped>\n",
       "    .dataframe tbody tr th:only-of-type {\n",
       "        vertical-align: middle;\n",
       "    }\n",
       "\n",
       "    .dataframe tbody tr th {\n",
       "        vertical-align: top;\n",
       "    }\n",
       "\n",
       "    .dataframe thead th {\n",
       "        text-align: right;\n",
       "    }\n",
       "</style>\n",
       "<table border=\"1\" class=\"dataframe\">\n",
       "  <thead>\n",
       "    <tr style=\"text-align: right;\">\n",
       "      <th></th>\n",
       "      <th>No</th>\n",
       "      <th>Money</th>\n",
       "      <th>outlier</th>\n",
       "    </tr>\n",
       "  </thead>\n",
       "  <tbody>\n",
       "    <tr>\n",
       "      <th>0</th>\n",
       "      <td>1.610000e+12</td>\n",
       "      <td>6871</td>\n",
       "      <td>-1</td>\n",
       "    </tr>\n",
       "    <tr>\n",
       "      <th>1</th>\n",
       "      <td>1.680000e+12</td>\n",
       "      <td>7965</td>\n",
       "      <td>1</td>\n",
       "    </tr>\n",
       "    <tr>\n",
       "      <th>2</th>\n",
       "      <td>1.650000e+12</td>\n",
       "      <td>7927</td>\n",
       "      <td>1</td>\n",
       "    </tr>\n",
       "    <tr>\n",
       "      <th>3</th>\n",
       "      <td>1.630000e+12</td>\n",
       "      <td>9525</td>\n",
       "      <td>1</td>\n",
       "    </tr>\n",
       "    <tr>\n",
       "      <th>4</th>\n",
       "      <td>1.630000e+12</td>\n",
       "      <td>7008</td>\n",
       "      <td>1</td>\n",
       "    </tr>\n",
       "  </tbody>\n",
       "</table>\n",
       "</div>"
      ],
      "text/plain": [
       "             No  Money  outlier\n",
       "0  1.610000e+12   6871       -1\n",
       "1  1.680000e+12   7965        1\n",
       "2  1.650000e+12   7927        1\n",
       "3  1.630000e+12   9525        1\n",
       "4  1.630000e+12   7008        1"
      ]
     },
     "execution_count": 49,
     "metadata": {},
     "output_type": "execute_result"
    }
   ],
   "source": [
    "dataset_no_out = remove_outliers(dataset_cleanest, 20, 0.2)\n",
    "dataset_no_out.head()"
   ]
  },
  {
   "cell_type": "markdown",
   "metadata": {},
   "source": [
    "Your answer will be verified below (no need for you to do anything)."
   ]
  },
  {
   "cell_type": "code",
   "execution_count": null,
   "metadata": {
    "collapsed": true,
    "deletable": false,
    "editable": false,
    "nbgrader": {
     "grade": true,
     "grade_id": "remove_outliers",
     "locked": true,
     "points": "6",
     "schema_version": 1,
     "solution": false
    }
   },
   "outputs": [],
   "source": [
    "###\n",
    "### AUTOGRADER TEST - DO NOT REMOVE\n",
    "###\n"
   ]
  },
  {
   "cell_type": "markdown",
   "metadata": {},
   "source": [
    "Check your dataset:"
   ]
  },
  {
   "cell_type": "code",
   "execution_count": 50,
   "metadata": {
    "scrolled": true
   },
   "outputs": [
    {
     "data": {
      "text/plain": [
       " 1    80\n",
       "-1    19\n",
       "Name: outlier, dtype: int64"
      ]
     },
     "execution_count": 50,
     "metadata": {},
     "output_type": "execute_result"
    }
   ],
   "source": [
    "dataset_no_out['outlier'].value_counts()"
   ]
  },
  {
   "cell_type": "markdown",
   "metadata": {},
   "source": [
    "## Step 4: Transform numeric variables"
   ]
  },
  {
   "cell_type": "markdown",
   "metadata": {},
   "source": [
    "Finally, transform the numeric variables in the dataset by using standardisation. Your result should be a dataframe containing only the transformed (numeric) variables:"
   ]
  },
  {
   "cell_type": "code",
   "execution_count": 51,
   "metadata": {
    "collapsed": true,
    "nbgrader": {
     "grade": false,
     "grade_id": "transform_numeric_variables",
     "locked": false,
     "schema_version": 1,
     "solution": true
    }
   },
   "outputs": [],
   "source": [
    "from sklearn.preprocessing import StandardScaler\n",
    "\n",
    "def transform_numeric_variables(dataset_cleanest):\n",
    "    dataset_trans = dataset_no_out.copy()\n",
    "    \n",
    "    ###\n",
    "    ### YOUR CODE HERE\n",
    "    ss = StandardScaler()\n",
    "\n",
    "    # Note that we only retain the continuous variables\n",
    "    dataset_trans = ss.fit_transform(dataset_trans[['No','Money']])\n",
    "    dataset_trans = pd.DataFrame(data = dataset_trans, columns = ['No', 'Money'])\n",
    "    ###\n",
    "    \n",
    "    return dataset_trans"
   ]
  },
  {
   "cell_type": "markdown",
   "metadata": {},
   "source": [
    "Your answer will be verified below (no need for you to do anything)."
   ]
  },
  {
   "cell_type": "code",
   "execution_count": null,
   "metadata": {
    "collapsed": true,
    "deletable": false,
    "editable": false,
    "nbgrader": {
     "grade": true,
     "grade_id": "transform_numeric_variables",
     "locked": true,
     "points": "4",
     "schema_version": 1,
     "solution": false
    }
   },
   "outputs": [],
   "source": [
    "###\n",
    "### AUTOGRADER TEST - DO NOT REMOVE\n",
    "###\n"
   ]
  },
  {
   "cell_type": "markdown",
   "metadata": {},
   "source": [
    "Check your dataset:"
   ]
  },
  {
   "cell_type": "code",
   "execution_count": 53,
   "metadata": {},
   "outputs": [
    {
     "data": {
      "text/html": [
       "<div>\n",
       "<style scoped>\n",
       "    .dataframe tbody tr th:only-of-type {\n",
       "        vertical-align: middle;\n",
       "    }\n",
       "\n",
       "    .dataframe tbody tr th {\n",
       "        vertical-align: top;\n",
       "    }\n",
       "\n",
       "    .dataframe thead th {\n",
       "        text-align: right;\n",
       "    }\n",
       "</style>\n",
       "<table border=\"1\" class=\"dataframe\">\n",
       "  <thead>\n",
       "    <tr style=\"text-align: right;\">\n",
       "      <th></th>\n",
       "      <th>No</th>\n",
       "      <th>Money</th>\n",
       "    </tr>\n",
       "  </thead>\n",
       "  <tbody>\n",
       "    <tr>\n",
       "      <th>0</th>\n",
       "      <td>-1.716197</td>\n",
       "      <td>-0.254860</td>\n",
       "    </tr>\n",
       "    <tr>\n",
       "      <th>1</th>\n",
       "      <td>1.095445</td>\n",
       "      <td>0.468902</td>\n",
       "    </tr>\n",
       "    <tr>\n",
       "      <th>2</th>\n",
       "      <td>-0.109545</td>\n",
       "      <td>0.443762</td>\n",
       "    </tr>\n",
       "    <tr>\n",
       "      <th>3</th>\n",
       "      <td>-0.912871</td>\n",
       "      <td>1.500958</td>\n",
       "    </tr>\n",
       "    <tr>\n",
       "      <th>4</th>\n",
       "      <td>-0.912871</td>\n",
       "      <td>-0.164224</td>\n",
       "    </tr>\n",
       "  </tbody>\n",
       "</table>\n",
       "</div>"
      ],
      "text/plain": [
       "         No     Money\n",
       "0 -1.716197 -0.254860\n",
       "1  1.095445  0.468902\n",
       "2 -0.109545  0.443762\n",
       "3 -0.912871  1.500958\n",
       "4 -0.912871 -0.164224"
      ]
     },
     "execution_count": 53,
     "metadata": {},
     "output_type": "execute_result"
    }
   ],
   "source": [
    "dataset_trans = transform_numeric_variables(dataset_cleanest)\n",
    "dataset_trans.head()"
   ]
  },
  {
   "cell_type": "code",
   "execution_count": null,
   "metadata": {
    "collapsed": true
   },
   "outputs": [],
   "source": []
  }
 ],
 "metadata": {
  "kernelspec": {
   "display_name": "Python 3 [3.6]",
   "language": "python",
   "name": "python3"
  },
  "language_info": {
   "codemirror_mode": {
    "name": "ipython",
    "version": 3
   },
   "file_extension": ".py",
   "mimetype": "text/x-python",
   "name": "python",
   "nbconvert_exporter": "python",
   "pygments_lexer": "ipython3",
   "version": "3.6.4"
  }
 },
 "nbformat": 4,
 "nbformat_minor": 2
}
