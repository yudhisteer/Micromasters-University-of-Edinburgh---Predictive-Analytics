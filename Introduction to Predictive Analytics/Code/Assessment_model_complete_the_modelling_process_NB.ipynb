{
 "cells": [
  {
   "cell_type": "markdown",
   "metadata": {},
   "source": [
    "# Part 3: Modelling"
   ]
  },
  {
   "cell_type": "markdown",
   "metadata": {},
   "source": [
    "If you run all the code in the notebook, make sure to do it cell-by-cell, as the graphs in one of the last cells will disappear unless you find the correct answer.\n",
    "\n",
    "Let's first reload the dataset we obtained after pre-processing and transformation:"
   ]
  },
  {
   "cell_type": "code",
   "execution_count": 1,
   "metadata": {},
   "outputs": [
    {
     "data": {
      "text/html": [
       "<div>\n",
       "<style scoped>\n",
       "    .dataframe tbody tr th:only-of-type {\n",
       "        vertical-align: middle;\n",
       "    }\n",
       "\n",
       "    .dataframe tbody tr th {\n",
       "        vertical-align: top;\n",
       "    }\n",
       "\n",
       "    .dataframe thead th {\n",
       "        text-align: right;\n",
       "    }\n",
       "</style>\n",
       "<table border=\"1\" class=\"dataframe\">\n",
       "  <thead>\n",
       "    <tr style=\"text-align: right;\">\n",
       "      <th></th>\n",
       "      <th>Occupation</th>\n",
       "      <th>Marital_Status</th>\n",
       "      <th>Purchase_Sum</th>\n",
       "      <th>annual_income</th>\n",
       "      <th>number_of_children</th>\n",
       "      <th>proximity_town</th>\n",
       "      <th>sum</th>\n",
       "      <th>Age_18-25</th>\n",
       "      <th>Age_26-35</th>\n",
       "      <th>Age_36-45</th>\n",
       "      <th>...</th>\n",
       "      <th>Age_51-55</th>\n",
       "      <th>Age_55+</th>\n",
       "      <th>Gender_M</th>\n",
       "      <th>City_Category_B</th>\n",
       "      <th>City_Category_C</th>\n",
       "      <th>Stay_In_Current_City_Years_1</th>\n",
       "      <th>Stay_In_Current_City_Years_2</th>\n",
       "      <th>Stay_In_Current_City_Years_3</th>\n",
       "      <th>Stay_In_Current_City_Years_4+</th>\n",
       "      <th>outlier</th>\n",
       "    </tr>\n",
       "  </thead>\n",
       "  <tbody>\n",
       "    <tr>\n",
       "      <th>0</th>\n",
       "      <td>0.288734</td>\n",
       "      <td>0</td>\n",
       "      <td>-0.452944</td>\n",
       "      <td>-0.434067</td>\n",
       "      <td>1.050259</td>\n",
       "      <td>-0.797397</td>\n",
       "      <td>38891</td>\n",
       "      <td>0</td>\n",
       "      <td>0</td>\n",
       "      <td>0</td>\n",
       "      <td>...</td>\n",
       "      <td>0</td>\n",
       "      <td>0</td>\n",
       "      <td>0</td>\n",
       "      <td>0</td>\n",
       "      <td>0</td>\n",
       "      <td>0</td>\n",
       "      <td>1</td>\n",
       "      <td>0</td>\n",
       "      <td>0</td>\n",
       "      <td>1</td>\n",
       "    </tr>\n",
       "    <tr>\n",
       "      <th>1</th>\n",
       "      <td>1.233680</td>\n",
       "      <td>0</td>\n",
       "      <td>-0.467259</td>\n",
       "      <td>-0.275620</td>\n",
       "      <td>-0.982428</td>\n",
       "      <td>-0.750248</td>\n",
       "      <td>37417</td>\n",
       "      <td>0</td>\n",
       "      <td>0</td>\n",
       "      <td>0</td>\n",
       "      <td>...</td>\n",
       "      <td>0</td>\n",
       "      <td>1</td>\n",
       "      <td>1</td>\n",
       "      <td>0</td>\n",
       "      <td>1</td>\n",
       "      <td>0</td>\n",
       "      <td>0</td>\n",
       "      <td>0</td>\n",
       "      <td>1</td>\n",
       "      <td>1</td>\n",
       "    </tr>\n",
       "    <tr>\n",
       "      <th>2</th>\n",
       "      <td>1.076189</td>\n",
       "      <td>0</td>\n",
       "      <td>-0.345577</td>\n",
       "      <td>-0.457494</td>\n",
       "      <td>0.033916</td>\n",
       "      <td>-0.731928</td>\n",
       "      <td>49947</td>\n",
       "      <td>0</td>\n",
       "      <td>1</td>\n",
       "      <td>0</td>\n",
       "      <td>...</td>\n",
       "      <td>0</td>\n",
       "      <td>0</td>\n",
       "      <td>1</td>\n",
       "      <td>0</td>\n",
       "      <td>0</td>\n",
       "      <td>0</td>\n",
       "      <td>0</td>\n",
       "      <td>1</td>\n",
       "      <td>0</td>\n",
       "      <td>1</td>\n",
       "    </tr>\n",
       "    <tr>\n",
       "      <th>3</th>\n",
       "      <td>-0.183740</td>\n",
       "      <td>1</td>\n",
       "      <td>-0.183788</td>\n",
       "      <td>-0.082992</td>\n",
       "      <td>-0.982428</td>\n",
       "      <td>-0.796079</td>\n",
       "      <td>66607</td>\n",
       "      <td>0</td>\n",
       "      <td>0</td>\n",
       "      <td>0</td>\n",
       "      <td>...</td>\n",
       "      <td>0</td>\n",
       "      <td>0</td>\n",
       "      <td>1</td>\n",
       "      <td>1</td>\n",
       "      <td>0</td>\n",
       "      <td>0</td>\n",
       "      <td>1</td>\n",
       "      <td>0</td>\n",
       "      <td>0</td>\n",
       "      <td>1</td>\n",
       "    </tr>\n",
       "    <tr>\n",
       "      <th>4</th>\n",
       "      <td>1.863644</td>\n",
       "      <td>1</td>\n",
       "      <td>-0.338420</td>\n",
       "      <td>-0.025106</td>\n",
       "      <td>0.033916</td>\n",
       "      <td>-0.788903</td>\n",
       "      <td>50684</td>\n",
       "      <td>0</td>\n",
       "      <td>1</td>\n",
       "      <td>0</td>\n",
       "      <td>...</td>\n",
       "      <td>0</td>\n",
       "      <td>0</td>\n",
       "      <td>1</td>\n",
       "      <td>0</td>\n",
       "      <td>0</td>\n",
       "      <td>1</td>\n",
       "      <td>0</td>\n",
       "      <td>0</td>\n",
       "      <td>0</td>\n",
       "      <td>1</td>\n",
       "    </tr>\n",
       "  </tbody>\n",
       "</table>\n",
       "<p>5 rows × 21 columns</p>\n",
       "</div>"
      ],
      "text/plain": [
       "   Occupation  Marital_Status  Purchase_Sum  annual_income  \\\n",
       "0    0.288734               0     -0.452944      -0.434067   \n",
       "1    1.233680               0     -0.467259      -0.275620   \n",
       "2    1.076189               0     -0.345577      -0.457494   \n",
       "3   -0.183740               1     -0.183788      -0.082992   \n",
       "4    1.863644               1     -0.338420      -0.025106   \n",
       "\n",
       "   number_of_children  proximity_town    sum  Age_18-25  Age_26-35  Age_36-45  \\\n",
       "0            1.050259       -0.797397  38891          0          0          0   \n",
       "1           -0.982428       -0.750248  37417          0          0          0   \n",
       "2            0.033916       -0.731928  49947          0          1          0   \n",
       "3           -0.982428       -0.796079  66607          0          0          0   \n",
       "4            0.033916       -0.788903  50684          0          1          0   \n",
       "\n",
       "    ...     Age_51-55  Age_55+  Gender_M  City_Category_B  City_Category_C  \\\n",
       "0   ...             0        0         0                0                0   \n",
       "1   ...             0        1         1                0                1   \n",
       "2   ...             0        0         1                0                0   \n",
       "3   ...             0        0         1                1                0   \n",
       "4   ...             0        0         1                0                0   \n",
       "\n",
       "   Stay_In_Current_City_Years_1  Stay_In_Current_City_Years_2  \\\n",
       "0                             0                             1   \n",
       "1                             0                             0   \n",
       "2                             0                             0   \n",
       "3                             0                             1   \n",
       "4                             1                             0   \n",
       "\n",
       "   Stay_In_Current_City_Years_3  Stay_In_Current_City_Years_4+  outlier  \n",
       "0                             0                              0        1  \n",
       "1                             0                              1        1  \n",
       "2                             1                              0        1  \n",
       "3                             0                              0        1  \n",
       "4                             0                              0        1  \n",
       "\n",
       "[5 rows x 21 columns]"
      ]
     },
     "execution_count": 1,
     "metadata": {},
     "output_type": "execute_result"
    }
   ],
   "source": [
    "import pandas as pd\n",
    "import numpy as np\n",
    "import matplotlib.pyplot as plt\n",
    "\n",
    "dataset = pd.read_csv('CS_transformed_data.csv', index_col=0)\n",
    "dataset.head()"
   ]
  },
  {
   "cell_type": "markdown",
   "metadata": {},
   "source": [
    "## Model"
   ]
  },
  {
   "cell_type": "markdown",
   "metadata": {},
   "source": [
    "While this is not standard pratice, we are going to model the relationship of independent variables with the dependent variable separately. Given that the other variables are categorical, we will stick with the truly continuous ones: proximity to town and annual income.\n",
    "Write a linear regression for both, predicting the total purchase value:"
   ]
  },
  {
   "cell_type": "code",
   "execution_count": 25,
   "metadata": {
    "collapsed": true,
    "nbgrader": {
     "grade": false,
     "grade_id": "fit_linear_regression",
     "locked": false,
     "schema_version": 1,
     "solution": true
    }
   },
   "outputs": [],
   "source": [
    "from sklearn.linear_model import LinearRegression\n",
    "\n",
    "def fit_linear_regression(dataset, variable):\n",
    "    predictions = []\n",
    "    \n",
    "    ###\n",
    "    ### YOUR CODE HERE\n",
    "    variable = ['proximity_town', 'annual_income']\n",
    "    lin_r = LinearRegression()\n",
    "    y = dataset[['Purchase_Sum']]\n",
    "\n",
    "    for var in variable:\n",
    "        x = dataset[[var]]\n",
    "\n",
    "        lin_r.fit(x, y)\n",
    "        prediction = lin_r.predict(x)\n",
    "        predictions.append([prediction])\n",
    "\n",
    "        plt.title(var)\n",
    "        plt.scatter(x, y, color = 'blue')\n",
    "        plt.scatter(x, prediction, color = 'red')\n",
    "        plt.show()\n",
    "        ###\n",
    "    \n",
    "    return predictions"
   ]
  },
  {
   "cell_type": "code",
   "execution_count": 26,
   "metadata": {},
   "outputs": [
    {
     "data": {
      "image/png": "[encoded data removed]",
      "text/plain": [
       "<Figure size 432x288 with 1 Axes>"
      ]
     },
     "metadata": {},
     "output_type": "display_data"
    },
    {
     "data": {
      "image/png": "[encoded data removed]",
      "text/plain": [
       "<Figure size 432x288 with 1 Axes>"
      ]
     },
     "metadata": {},
     "output_type": "display_data"
    },
    {
     "data": {
      "text/plain": [
       "[[array([[ 0.00962631],\n",
       "         [ 0.00905712],\n",
       "         [ 0.00883596],\n",
       "         ...,\n",
       "         [ 0.00235372],\n",
       "         [-0.01735947],\n",
       "         [-0.00116921]])], [array([[-0.41919754],\n",
       "         [-0.26617898],\n",
       "         [-0.44182263],\n",
       "         ...,\n",
       "         [-0.43468889],\n",
       "         [-0.26064571],\n",
       "         [ 0.48055378]])]]"
      ]
     },
     "execution_count": 26,
     "metadata": {},
     "output_type": "execute_result"
    }
   ],
   "source": [
    "fit_linear_regression(dataset, variable)"
   ]
  },
  {
   "cell_type": "markdown",
   "metadata": {},
   "source": [
    "Your answer will be verified below (no need for you to do anything)."
   ]
  },
  {
   "cell_type": "code",
   "execution_count": 4,
   "metadata": {
    "collapsed": true,
    "deletable": false,
    "editable": false,
    "nbgrader": {
     "grade": true,
     "grade_id": "fit_linear_regression",
     "locked": true,
     "points": "10",
     "schema_version": 1,
     "solution": false
    }
   },
   "outputs": [],
   "source": [
    "###\n",
    "### AUTOGRADER TEST - DO NOT REMOVE\n",
    "###\n"
   ]
  },
  {
   "cell_type": "markdown",
   "metadata": {},
   "source": [
    "## Evaluation"
   ]
  },
  {
   "cell_type": "markdown",
   "metadata": {},
   "source": [
    "For now, let's stick to a qualitative evaluation: by looking at the graphs.\n",
    "Clearly, it seems we can easily use the annual income to predict the purchase sum. The relationship is almost perfectly linear.\n",
    "The proximity to town is too scattered, and the linear regression is returned as a flat curve.\n",
    "Even without quantifying this, we can see the quality of both results."
   ]
  }
 ],
 "metadata": {
  "celltoolbar": "Create Assignment",
  "kernelspec": {
   "display_name": "Python 3 [3.6]",
   "language": "python",
   "name": "python3"
  },
  "language_info": {
   "codemirror_mode": {
    "name": "ipython",
    "version": 3
   },
   "file_extension": ".py",
   "mimetype": "text/x-python",
   "name": "python",
   "nbconvert_exporter": "python",
   "pygments_lexer": "ipython3",
   "version": "3.6.4"
  }
 },
 "nbformat": 4,
 "nbformat_minor": 2
}
